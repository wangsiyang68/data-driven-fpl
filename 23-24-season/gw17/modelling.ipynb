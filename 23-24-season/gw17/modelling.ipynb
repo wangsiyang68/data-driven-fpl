{
 "cells": [
  {
   "cell_type": "code",
   "execution_count": 1,
   "metadata": {},
   "outputs": [],
   "source": [
    "import pandas as pd\n",
    "import numpy as np\n",
    "import matplotlib.pyplot as plt\n",
    "import random"
   ]
  },
  {
   "cell_type": "code",
   "execution_count": 2,
   "metadata": {},
   "outputs": [],
   "source": [
    "gw_data = pd.read_csv(r'C:\\Users\\siyang\\Documents\\GitHub\\Fantasy-Premier-League\\data\\2023-24\\gws\\merged_gw.csv')"
   ]
  },
  {
   "cell_type": "markdown",
   "metadata": {},
   "source": [
    "Visualize Player Cost Spread"
   ]
  },
  {
   "cell_type": "code",
   "execution_count": 3,
   "metadata": {},
   "outputs": [],
   "source": [
    "defs = gw_data[(gw_data['position'] == 'DEF')]"
   ]
  },
  {
   "cell_type": "code",
   "execution_count": 4,
   "metadata": {},
   "outputs": [
    {
     "data": {
      "text/plain": [
       "(array([1919., 1223.,  289.,   65.,   22.,   20.,    7.,   11.,    5.]),\n",
       " array([40., 45., 50., 55., 60., 65., 70., 75., 80., 85.]),\n",
       " <BarContainer object of 9 artists>)"
      ]
     },
     "execution_count": 4,
     "metadata": {},
     "output_type": "execute_result"
    },
    {
     "data": {
      "image/png": "[encoded data removed]",
      "text/plain": [
       "<Figure size 640x480 with 1 Axes>"
      ]
     },
     "metadata": {},
     "output_type": "display_data"
    }
   ],
   "source": [
    "plt.hist(defs['value'], bins=range(40,90,5), align='left')"
   ]
  },
  {
   "cell_type": "code",
   "execution_count": 5,
   "metadata": {},
   "outputs": [],
   "source": [
    "## pick 5 defenders randomly\n",
    "## ignore budget first\n",
    "gameweek = 1\n",
    "basement_def = defs[(defs['value'] >= 40) & (defs['value'] < 45)& (defs['round'] == gameweek)]\n",
    "cheap_def = defs[(defs['value'] >= 45) & (defs['value'] < 50) & (defs['round'] == gameweek)]\n",
    "midprice_def = defs[(defs['value'] >= 50) & (defs['value'] < 55) & (defs['round'] == gameweek)]\n",
    "expensive_def = defs[(defs['value'] >= 55) & (defs['round'] == gameweek)]\n",
    "\n",
    "## current formation: 2 basement, 2 midprice, 1 expensive\n",
    "## pick 2 basement defenders\n",
    "basement_def_sample = basement_def.sample(2)\n",
    "## pick 2 midprice defenders\n",
    "midprice_def_sample = midprice_def.sample(2)\n",
    "## pick 1 expensive defender\n",
    "expensive_def_sample = expensive_def.sample(1)\n"
   ]
  },
  {
   "cell_type": "code",
   "execution_count": 6,
   "metadata": {},
   "outputs": [
    {
     "data": {
      "text/html": [
       "<div>\n",
       "<style scoped>\n",
       "    .dataframe tbody tr th:only-of-type {\n",
       "        vertical-align: middle;\n",
       "    }\n",
       "\n",
       "    .dataframe tbody tr th {\n",
       "        vertical-align: top;\n",
       "    }\n",
       "\n",
       "    .dataframe thead th {\n",
       "        text-align: right;\n",
       "    }\n",
       "</style>\n",
       "<table border=\"1\" class=\"dataframe\">\n",
       "  <thead>\n",
       "    <tr style=\"text-align: right;\">\n",
       "      <th></th>\n",
       "      <th>name</th>\n",
       "      <th>position</th>\n",
       "      <th>team</th>\n",
       "      <th>xP</th>\n",
       "      <th>assists</th>\n",
       "      <th>bonus</th>\n",
       "      <th>bps</th>\n",
       "      <th>clean_sheets</th>\n",
       "      <th>creativity</th>\n",
       "      <th>element</th>\n",
       "      <th>...</th>\n",
       "      <th>team_h_score</th>\n",
       "      <th>threat</th>\n",
       "      <th>total_points</th>\n",
       "      <th>transfers_balance</th>\n",
       "      <th>transfers_in</th>\n",
       "      <th>transfers_out</th>\n",
       "      <th>value</th>\n",
       "      <th>was_home</th>\n",
       "      <th>yellow_cards</th>\n",
       "      <th>GW</th>\n",
       "    </tr>\n",
       "  </thead>\n",
       "  <tbody>\n",
       "    <tr>\n",
       "      <th>281</th>\n",
       "      <td>Virgil van Dijk</td>\n",
       "      <td>DEF</td>\n",
       "      <td>Liverpool</td>\n",
       "      <td>3.4</td>\n",
       "      <td>0</td>\n",
       "      <td>0</td>\n",
       "      <td>13</td>\n",
       "      <td>0</td>\n",
       "      <td>0.5</td>\n",
       "      <td>313</td>\n",
       "      <td>...</td>\n",
       "      <td>1</td>\n",
       "      <td>3.0</td>\n",
       "      <td>2</td>\n",
       "      <td>0</td>\n",
       "      <td>0</td>\n",
       "      <td>0</td>\n",
       "      <td>60</td>\n",
       "      <td>False</td>\n",
       "      <td>0</td>\n",
       "      <td>1</td>\n",
       "    </tr>\n",
       "  </tbody>\n",
       "</table>\n",
       "<p>1 rows × 41 columns</p>\n",
       "</div>"
      ],
      "text/plain": [
       "                name position       team   xP  assists  bonus  bps  \\\n",
       "281  Virgil van Dijk      DEF  Liverpool  3.4        0      0   13   \n",
       "\n",
       "     clean_sheets  creativity  element  ...  team_h_score  threat  \\\n",
       "281             0         0.5      313  ...             1     3.0   \n",
       "\n",
       "     total_points  transfers_balance  transfers_in  transfers_out  value  \\\n",
       "281             2                  0             0              0     60   \n",
       "\n",
       "     was_home  yellow_cards GW  \n",
       "281     False             0  1  \n",
       "\n",
       "[1 rows x 41 columns]"
      ]
     },
     "execution_count": 6,
     "metadata": {},
     "output_type": "execute_result"
    }
   ],
   "source": [
    "expensive_def_sample"
   ]
  },
  {
   "cell_type": "code",
   "execution_count": 57,
   "metadata": {},
   "outputs": [
    {
     "data": {
      "text/plain": [
       "Index(['name', 'position', 'team', 'xP', 'assists', 'bonus', 'bps',\n",
       "       'clean_sheets', 'creativity', 'element', 'expected_assists',\n",
       "       'expected_goal_involvements', 'expected_goals',\n",
       "       'expected_goals_conceded', 'fixture', 'goals_conceded', 'goals_scored',\n",
       "       'ict_index', 'influence', 'kickoff_time', 'minutes', 'opponent_team',\n",
       "       'own_goals', 'penalties_missed', 'penalties_saved', 'red_cards',\n",
       "       'round', 'saves', 'selected', 'starts', 'team_a_score', 'team_h_score',\n",
       "       'threat', 'total_points', 'transfers_balance', 'transfers_in',\n",
       "       'transfers_out', 'value', 'was_home', 'yellow_cards', 'GW'],\n",
       "      dtype='object')"
      ]
     },
     "execution_count": 57,
     "metadata": {},
     "output_type": "execute_result"
    }
   ],
   "source": [
    "## concatenate all three samples together\n",
    "df = pd.concat([basement_def_sample, midprice_def_sample, expensive_def_sample], axis=0)\n",
    "df.columns"
   ]
  }
 ],
 "metadata": {
  "kernelspec": {
   "display_name": ".venv",
   "language": "python",
   "name": "python3"
  },
  "language_info": {
   "codemirror_mode": {
    "name": "ipython",
    "version": 3
   },
   "file_extension": ".py",
   "mimetype": "text/x-python",
   "name": "python",
   "nbconvert_exporter": "python",
   "pygments_lexer": "ipython3",
   "version": "3.11.4"
  },
  "orig_nbformat": 4
 },
 "nbformat": 4,
 "nbformat_minor": 2
}
