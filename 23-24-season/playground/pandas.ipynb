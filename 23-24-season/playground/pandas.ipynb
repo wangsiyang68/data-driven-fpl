{
 "cells": [
  {
   "cell_type": "code",
   "execution_count": 1,
   "metadata": {},
   "outputs": [],
   "source": [
    "import pandas as pd\n",
    "import torch"
   ]
  },
  {
   "cell_type": "code",
   "execution_count": 2,
   "metadata": {},
   "outputs": [
    {
     "name": "stdout",
     "output_type": "stream",
     "text": [
      "tensor([[10, 15, 20, 50, 55, 60],\n",
      "        [25, 30, 35, 65, 70, 75]])\n"
     ]
    }
   ],
   "source": [
    "import pandas as pd\n",
    "import torch\n",
    "\n",
    "# Given DataFrame\n",
    "data = {'player': ['Player1', 'Player2', 'Player3', 'Player1', 'Player2', 'Player3'],\n",
    "        'round_id': [1, 1, 1, 2, 2, 2],\n",
    "        'stat1': [10, 15, 20, 25, 30, 35],\n",
    "        'stat2': [50, 55, 60, 65, 70, 75]}\n",
    "\n",
    "df = pd.DataFrame(data)\n",
    "\n",
    "# Pivot the DataFrame to reshape it\n",
    "df_pivot = df.pivot(index='round_id', columns='player')\n",
    "\n",
    "# Convert the DataFrame to a NumPy array\n",
    "array = df_pivot.to_numpy()\n",
    "\n",
    "# Convert the NumPy array to a PyTorch tensor\n",
    "tensor = torch.tensor(array)\n",
    "\n",
    "# Print the resulting tensor\n",
    "print(tensor)\n"
   ]
  },
  {
   "cell_type": "code",
   "execution_count": 3,
   "metadata": {},
   "outputs": [
    {
     "data": {
      "text/plain": [
       "torch.Size([2, 6])"
      ]
     },
     "execution_count": 3,
     "metadata": {},
     "output_type": "execute_result"
    }
   ],
   "source": [
    "tensor.size()"
   ]
  },
  {
   "cell_type": "code",
   "execution_count": 4,
   "metadata": {},
   "outputs": [
    {
     "name": "stdout",
     "output_type": "stream",
     "text": [
      "tensor([[10, 15, 20, 50, 55, 60],\n",
      "        [25, 30, 35, 65, 70, 75]])\n"
     ]
    }
   ],
   "source": [
    "import pandas as pd\n",
    "import torch\n",
    "\n",
    "# Given DataFrame\n",
    "data = {'player': ['Player1', 'Player2', 'Player3', 'Player1', 'Player2', 'Player3'],\n",
    "        'round_id': [1, 1, 1, 2, 2, 2],\n",
    "        'stat1': [10, 15, 20, 25, 30, 35],\n",
    "        'stat2': [50, 55, 60, 65, 70, 75]}\n",
    "\n",
    "df = pd.DataFrame(data)\n",
    "\n",
    "# Pivot the DataFrame to reshape it\n",
    "df_pivot = df.set_index(['round_id', 'player']).unstack()\n",
    "\n",
    "# Convert the DataFrame to a NumPy array\n",
    "array = df_pivot.to_numpy()\n",
    "\n",
    "# Convert the NumPy array to a PyTorch tensor\n",
    "tensor = torch.tensor(array)\n",
    "\n",
    "# Print the resulting tensor\n",
    "print(tensor)\n"
   ]
  },
  {
   "cell_type": "code",
   "execution_count": 5,
   "metadata": {},
   "outputs": [
    {
     "data": {
      "text/html": [
       "<div>\n",
       "<style scoped>\n",
       "    .dataframe tbody tr th:only-of-type {\n",
       "        vertical-align: middle;\n",
       "    }\n",
       "\n",
       "    .dataframe tbody tr th {\n",
       "        vertical-align: top;\n",
       "    }\n",
       "\n",
       "    .dataframe thead tr th {\n",
       "        text-align: left;\n",
       "    }\n",
       "\n",
       "    .dataframe thead tr:last-of-type th {\n",
       "        text-align: right;\n",
       "    }\n",
       "</style>\n",
       "<table border=\"1\" class=\"dataframe\">\n",
       "  <thead>\n",
       "    <tr>\n",
       "      <th></th>\n",
       "      <th colspan=\"3\" halign=\"left\">stat1</th>\n",
       "      <th colspan=\"3\" halign=\"left\">stat2</th>\n",
       "    </tr>\n",
       "    <tr>\n",
       "      <th>player</th>\n",
       "      <th>Player1</th>\n",
       "      <th>Player2</th>\n",
       "      <th>Player3</th>\n",
       "      <th>Player1</th>\n",
       "      <th>Player2</th>\n",
       "      <th>Player3</th>\n",
       "    </tr>\n",
       "    <tr>\n",
       "      <th>round_id</th>\n",
       "      <th></th>\n",
       "      <th></th>\n",
       "      <th></th>\n",
       "      <th></th>\n",
       "      <th></th>\n",
       "      <th></th>\n",
       "    </tr>\n",
       "  </thead>\n",
       "  <tbody>\n",
       "    <tr>\n",
       "      <th>1</th>\n",
       "      <td>10</td>\n",
       "      <td>15</td>\n",
       "      <td>20</td>\n",
       "      <td>50</td>\n",
       "      <td>55</td>\n",
       "      <td>60</td>\n",
       "    </tr>\n",
       "    <tr>\n",
       "      <th>2</th>\n",
       "      <td>25</td>\n",
       "      <td>30</td>\n",
       "      <td>35</td>\n",
       "      <td>65</td>\n",
       "      <td>70</td>\n",
       "      <td>75</td>\n",
       "    </tr>\n",
       "  </tbody>\n",
       "</table>\n",
       "</div>"
      ],
      "text/plain": [
       "           stat1                   stat2                \n",
       "player   Player1 Player2 Player3 Player1 Player2 Player3\n",
       "round_id                                                \n",
       "1             10      15      20      50      55      60\n",
       "2             25      30      35      65      70      75"
      ]
     },
     "execution_count": 5,
     "metadata": {},
     "output_type": "execute_result"
    }
   ],
   "source": [
    "df_pivot"
   ]
  },
  {
   "cell_type": "code",
   "execution_count": 11,
   "metadata": {},
   "outputs": [
    {
     "data": {
      "text/html": [
       "<div>\n",
       "<style scoped>\n",
       "    .dataframe tbody tr th:only-of-type {\n",
       "        vertical-align: middle;\n",
       "    }\n",
       "\n",
       "    .dataframe tbody tr th {\n",
       "        vertical-align: top;\n",
       "    }\n",
       "\n",
       "    .dataframe thead th {\n",
       "        text-align: right;\n",
       "    }\n",
       "</style>\n",
       "<table border=\"1\" class=\"dataframe\">\n",
       "  <thead>\n",
       "    <tr style=\"text-align: right;\">\n",
       "      <th></th>\n",
       "      <th>Animal</th>\n",
       "      <th>Country</th>\n",
       "      <th>Likes</th>\n",
       "      <th>Age</th>\n",
       "    </tr>\n",
       "  </thead>\n",
       "  <tbody>\n",
       "    <tr>\n",
       "      <th>0</th>\n",
       "      <td>Cat</td>\n",
       "      <td>USA</td>\n",
       "      <td>Petting</td>\n",
       "      <td>1</td>\n",
       "    </tr>\n",
       "    <tr>\n",
       "      <th>1</th>\n",
       "      <td>Dog</td>\n",
       "      <td>Canada</td>\n",
       "      <td>Hunting</td>\n",
       "      <td>2</td>\n",
       "    </tr>\n",
       "    <tr>\n",
       "      <th>2</th>\n",
       "      <td>Dog</td>\n",
       "      <td>USA</td>\n",
       "      <td>Petting</td>\n",
       "      <td>3</td>\n",
       "    </tr>\n",
       "    <tr>\n",
       "      <th>3</th>\n",
       "      <td>Dog</td>\n",
       "      <td>Canada</td>\n",
       "      <td>Petting</td>\n",
       "      <td>4</td>\n",
       "    </tr>\n",
       "  </tbody>\n",
       "</table>\n",
       "</div>"
      ],
      "text/plain": [
       "  Animal Country    Likes  Age\n",
       "0    Cat     USA  Petting    1\n",
       "1    Dog  Canada  Hunting    2\n",
       "2    Dog     USA  Petting    3\n",
       "3    Dog  Canada  Petting    4"
      ]
     },
     "execution_count": 11,
     "metadata": {},
     "output_type": "execute_result"
    }
   ],
   "source": [
    "import pandas as pd\n",
    "  \n",
    "# initialize data of lists.\n",
    "data = {'Animal':['Cat', 'Dog', 'Dog', 'Dog'],\n",
    "        'Country':[\"USA\", \"Canada\", \"USA\", \"Canada\"],\n",
    "        'Likes': ['Petting', 'Hunting', 'Petting', 'Petting'], \n",
    "         'Age':[1, 2, 3, 4]}\n",
    "\n",
    "# there are no duplicate lines in terms of Animal, Country and Likes, so I do not need any aggregation function\n",
    "  \n",
    "# Create DataFrame\n",
    "dfAnimals = pd.DataFrame(data)\n",
    "dfAnimals"
   ]
  },
  {
   "cell_type": "code",
   "execution_count": 20,
   "metadata": {},
   "outputs": [
    {
     "name": "stdout",
     "output_type": "stream",
     "text": [
      "   Animal  Country  Likes  Age\n",
      "0       0        1      1    1\n",
      "1       1        0      0    2\n",
      "2       1        1      1    3\n",
      "3       1        0      1    4\n",
      "idx\n",
      "[(0, 1, 1), (1, 0, 0), (1, 1, 1), (1, 0, 1)]\n",
      "values\n",
      "[1 2 3 4]\n",
      "(0, 1, 1) 1\n",
      "(1, 0, 0) 2\n",
      "(1, 1, 1) 3\n",
      "(1, 0, 1) 4\n",
      "tensor([[[0., 0.],\n",
      "         [0., 1.]],\n",
      "\n",
      "        [[2., 4.],\n",
      "         [0., 3.]]], dtype=torch.float64)\n"
     ]
    }
   ],
   "source": [
    "import pandas as pd\n",
    "import numpy as np\n",
    "import torch\n",
    "\n",
    "df = pd.DataFrame(data)\n",
    "\n",
    "CAT = df.columns.tolist()\n",
    "CAT.remove(\"Age\")\n",
    "\n",
    "# encode categories as integers and extract the shape\n",
    "shape = []\n",
    "for c in CAT:\n",
    "    shape.append(len(df[c].unique()))\n",
    "    df[c] = df[c].astype(\"category\").cat.codes\n",
    "shape = tuple(shape)\n",
    "\n",
    "print(df)\n",
    "\n",
    "# get indices as tuples and corresponding values\n",
    "idx = [tuple(t) for t in df.values[:,:-1]]\n",
    "values = df.values[:,-1]\n",
    "\n",
    "print(\"idx\")\n",
    "print(idx)\n",
    "\n",
    "print(\"values\")\n",
    "print(values)\n",
    "# init final matrix with zeros and fill it from indices\n",
    "A = np.zeros(shape)\n",
    "for i, v in zip(idx,values):\n",
    "    A[i] = v\n",
    "    print(i, v)\n",
    "\n",
    "# convert to pytorch tensor\n",
    "A = torch.tensor(A)\n",
    "print(A)"
   ]
  }
 ],
 "metadata": {
  "kernelspec": {
   "display_name": ".venv",
   "language": "python",
   "name": "python3"
  },
  "language_info": {
   "codemirror_mode": {
    "name": "ipython",
    "version": 3
   },
   "file_extension": ".py",
   "mimetype": "text/x-python",
   "name": "python",
   "nbconvert_exporter": "python",
   "pygments_lexer": "ipython3",
   "version": "3.11.4"
  }
 },
 "nbformat": 4,
 "nbformat_minor": 2
}
