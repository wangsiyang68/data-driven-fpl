{
 "cells": [
  {
   "cell_type": "code",
   "execution_count": 6,
   "metadata": {},
   "outputs": [],
   "source": [
    "import pandas as pd\n",
    "import numpy as np\n",
    "import matplotlib.pyplot as plt\n",
    "import random"
   ]
  },
  {
   "cell_type": "code",
   "execution_count": 4,
   "metadata": {},
   "outputs": [],
   "source": [
    "gw_data = pd.read_csv(r'C:\\Users\\siyang\\Documents\\GitHub\\Fantasy-Premier-League\\data\\2022-23\\gws\\merged_gw.csv')"
   ]
  },
  {
   "cell_type": "markdown",
   "metadata": {},
   "source": [
    "Visualize Player Cost Spread"
   ]
  },
  {
   "cell_type": "code",
   "execution_count": 44,
   "metadata": {},
   "outputs": [],
   "source": [
    "defs = gw_data[(gw_data['position'] == 'DEF')]"
   ]
  },
  {
   "cell_type": "code",
   "execution_count": 45,
   "metadata": {},
   "outputs": [
    {
     "data": {
      "text/plain": [
       "(array([4624., 2617.,  689.,  246.,   63.,   69.,   65.,   13.,    0.]),\n",
       " array([40., 45., 50., 55., 60., 65., 70., 75., 80., 85.]),\n",
       " <BarContainer object of 9 artists>)"
      ]
     },
     "execution_count": 45,
     "metadata": {},
     "output_type": "execute_result"
    },
    {
     "data": {
      "image/png": "[encoded data removed]",
      "text/plain": [
       "<Figure size 640x480 with 1 Axes>"
      ]
     },
     "metadata": {},
     "output_type": "display_data"
    }
   ],
   "source": [
    "plt.hist(defs['value'], bins=range(40,90,5), align='left')"
   ]
  },
  {
   "cell_type": "code",
   "execution_count": 51,
   "metadata": {},
   "outputs": [],
   "source": [
    "## pick 5 defenders randomly\n",
    "## ignore budget first\n",
    "gameweek = 1\n",
    "basement_def = defs[(defs['value'] >= 40) & (defs['value'] < 45)& (defs['round'] == gameweek)]\n",
    "cheap_def = defs[(defs['value'] >= 45) & (defs['value'] < 50) & (defs['round'] == gameweek)]\n",
    "midprice_def = defs[(defs['value'] >= 50) & (defs['value'] < 55) & (defs['round'] == gameweek)]\n",
    "expensive_def = defs[(defs['value'] >= 55) & (defs['round'] == gameweek)]\n",
    "\n",
    "## current formation: 2 basement, 2 midprice, 1 expensive\n",
    "## pick 2 basement defenders\n",
    "basement_def_sample = basement_def.sample(2)\n",
    "## pick 2 midprice defenders\n",
    "midprice_def_sample = midprice_def.sample(2)\n",
    "## pick 1 expensive defender\n",
    "expensive_def_sample = expensive_def.sample(1)\n"
   ]
  },
  {
   "cell_type": "code",
   "execution_count": 54,
   "metadata": {},
   "outputs": [
    {
     "data": {
      "text/html": [
       "<div>\n",
       "<style scoped>\n",
       "    .dataframe tbody tr th:only-of-type {\n",
       "        vertical-align: middle;\n",
       "    }\n",
       "\n",
       "    .dataframe tbody tr th {\n",
       "        vertical-align: top;\n",
       "    }\n",
       "\n",
       "    .dataframe thead th {\n",
       "        text-align: right;\n",
       "    }\n",
       "</style>\n",
       "<table border=\"1\" class=\"dataframe\">\n",
       "  <thead>\n",
       "    <tr style=\"text-align: right;\">\n",
       "      <th></th>\n",
       "      <th>name</th>\n",
       "      <th>position</th>\n",
       "      <th>team</th>\n",
       "      <th>xP</th>\n",
       "      <th>assists</th>\n",
       "      <th>bonus</th>\n",
       "      <th>bps</th>\n",
       "      <th>clean_sheets</th>\n",
       "      <th>creativity</th>\n",
       "      <th>element</th>\n",
       "      <th>...</th>\n",
       "      <th>team_h_score</th>\n",
       "      <th>threat</th>\n",
       "      <th>total_points</th>\n",
       "      <th>transfers_balance</th>\n",
       "      <th>transfers_in</th>\n",
       "      <th>transfers_out</th>\n",
       "      <th>value</th>\n",
       "      <th>was_home</th>\n",
       "      <th>yellow_cards</th>\n",
       "      <th>GW</th>\n",
       "    </tr>\n",
       "  </thead>\n",
       "  <tbody>\n",
       "    <tr>\n",
       "      <th>199</th>\n",
       "      <td>Ben Chilwell</td>\n",
       "      <td>DEF</td>\n",
       "      <td>Chelsea</td>\n",
       "      <td>3.5</td>\n",
       "      <td>1</td>\n",
       "      <td>0</td>\n",
       "      <td>27</td>\n",
       "      <td>1</td>\n",
       "      <td>4.7</td>\n",
       "      <td>139</td>\n",
       "      <td>...</td>\n",
       "      <td>0</td>\n",
       "      <td>2.0</td>\n",
       "      <td>9</td>\n",
       "      <td>0</td>\n",
       "      <td>0</td>\n",
       "      <td>0</td>\n",
       "      <td>60</td>\n",
       "      <td>False</td>\n",
       "      <td>0</td>\n",
       "      <td>1</td>\n",
       "    </tr>\n",
       "  </tbody>\n",
       "</table>\n",
       "<p>1 rows × 41 columns</p>\n",
       "</div>"
      ],
      "text/plain": [
       "             name position     team   xP  assists  bonus  bps  clean_sheets  \\\n",
       "199  Ben Chilwell      DEF  Chelsea  3.5        1      0   27             1   \n",
       "\n",
       "     creativity  element  ...  team_h_score  threat  total_points  \\\n",
       "199         4.7      139  ...             0     2.0             9   \n",
       "\n",
       "     transfers_balance  transfers_in  transfers_out  value  was_home  \\\n",
       "199                  0             0              0     60     False   \n",
       "\n",
       "     yellow_cards GW  \n",
       "199             0  1  \n",
       "\n",
       "[1 rows x 41 columns]"
      ]
     },
     "execution_count": 54,
     "metadata": {},
     "output_type": "execute_result"
    }
   ],
   "source": [
    "expensive_def_sample"
   ]
  },
  {
   "cell_type": "code",
   "execution_count": 57,
   "metadata": {},
   "outputs": [
    {
     "data": {
      "text/plain": [
       "Index(['name', 'position', 'team', 'xP', 'assists', 'bonus', 'bps',\n",
       "       'clean_sheets', 'creativity', 'element', 'expected_assists',\n",
       "       'expected_goal_involvements', 'expected_goals',\n",
       "       'expected_goals_conceded', 'fixture', 'goals_conceded', 'goals_scored',\n",
       "       'ict_index', 'influence', 'kickoff_time', 'minutes', 'opponent_team',\n",
       "       'own_goals', 'penalties_missed', 'penalties_saved', 'red_cards',\n",
       "       'round', 'saves', 'selected', 'starts', 'team_a_score', 'team_h_score',\n",
       "       'threat', 'total_points', 'transfers_balance', 'transfers_in',\n",
       "       'transfers_out', 'value', 'was_home', 'yellow_cards', 'GW'],\n",
       "      dtype='object')"
      ]
     },
     "execution_count": 57,
     "metadata": {},
     "output_type": "execute_result"
    }
   ],
   "source": [
    "## concatenate all three samples together\n",
    "df = pd.concat([basement_def_sample, midprice_def_sample, expensive_def_sample], axis=0)\n",
    "df.columns"
   ]
  }
 ],
 "metadata": {
  "kernelspec": {
   "display_name": ".venv",
   "language": "python",
   "name": "python3"
  },
  "language_info": {
   "codemirror_mode": {
    "name": "ipython",
    "version": 3
   },
   "file_extension": ".py",
   "mimetype": "text/x-python",
   "name": "python",
   "nbconvert_exporter": "python",
   "pygments_lexer": "ipython3",
   "version": "3.11.4"
  },
  "orig_nbformat": 4
 },
 "nbformat": 4,
 "nbformat_minor": 2
}
